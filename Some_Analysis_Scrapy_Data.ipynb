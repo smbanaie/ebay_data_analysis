{
 "cells": [
  {
   "cell_type": "code",
   "execution_count": 1,
   "metadata": {},
   "outputs": [],
   "source": [
    "import pandas as pd\n",
    "import numpy as np"
   ]
  },
  {
   "cell_type": "code",
   "execution_count": 9,
   "metadata": {},
   "outputs": [],
   "source": [
    "df = pd.read_csv(\"dataset/fridges_info.csv\",index_col=[\"ID\"])"
   ]
  },
  {
   "cell_type": "code",
   "execution_count": 10,
   "metadata": {},
   "outputs": [
    {
     "data": {
      "text/html": [
       "<div>\n",
       "<style scoped>\n",
       "    .dataframe tbody tr th:only-of-type {\n",
       "        vertical-align: middle;\n",
       "    }\n",
       "\n",
       "    .dataframe tbody tr th {\n",
       "        vertical-align: top;\n",
       "    }\n",
       "\n",
       "    .dataframe thead th {\n",
       "        text-align: right;\n",
       "    }\n",
       "</style>\n",
       "<table border=\"1\" class=\"dataframe\">\n",
       "  <thead>\n",
       "    <tr style=\"text-align: right;\">\n",
       "      <th></th>\n",
       "      <th>Model</th>\n",
       "      <th>Brand</th>\n",
       "      <th>Capacity</th>\n",
       "      <th>Condition</th>\n",
       "      <th>Location</th>\n",
       "      <th>Price</th>\n",
       "      <th>Delivery Time</th>\n",
       "      <th>URL</th>\n",
       "    </tr>\n",
       "    <tr>\n",
       "      <th>ID</th>\n",
       "      <th></th>\n",
       "      <th></th>\n",
       "      <th></th>\n",
       "      <th></th>\n",
       "      <th></th>\n",
       "      <th></th>\n",
       "      <th></th>\n",
       "      <th></th>\n",
       "    </tr>\n",
       "  </thead>\n",
       "  <tbody>\n",
       "    <tr>\n",
       "      <th>282461741459</th>\n",
       "      <td>None</td>\n",
       "      <td>Vitrifrigo</td>\n",
       "      <td>None</td>\n",
       "      <td>Brand New</td>\n",
       "      <td>Carlino (UD)^ Italy</td>\n",
       "      <td>1109.71</td>\n",
       "      <td>Thu. 23 May.  and Mon. 3 Jun.</td>\n",
       "      <td>https://www.ebay.com.au/itm/Vitrifrigo-C47-Ref...</td>\n",
       "    </tr>\n",
       "    <tr>\n",
       "      <th>252091057173</th>\n",
       "      <td>WSE6100SA*1</td>\n",
       "      <td>Westinghouse</td>\n",
       "      <td>None</td>\n",
       "      <td>Brand New</td>\n",
       "      <td>Bibra Lake^Wa^ Australia</td>\n",
       "      <td>U $110.00</td>\n",
       "      <td>Tue. 7 May. and Mon. 20 May.</td>\n",
       "      <td>https://www.ebay.com.au/itm/Westinghouse-WSE61...</td>\n",
       "    </tr>\n",
       "    <tr>\n",
       "      <th>262858429519</th>\n",
       "      <td>None</td>\n",
       "      <td>None</td>\n",
       "      <td>None</td>\n",
       "      <td>Brand New</td>\n",
       "      <td>Bankstown^ NSW ^ Australia</td>\n",
       "      <td>220.0</td>\n",
       "      <td>Wed. 1 May. and Wed. 8 May.</td>\n",
       "      <td>https://www.ebay.com.au/itm/VACCUM-PUMP-VALUE-...</td>\n",
       "    </tr>\n",
       "    <tr>\n",
       "      <th>253514337712</th>\n",
       "      <td>None</td>\n",
       "      <td>Fisher &amp; Paykel</td>\n",
       "      <td>None</td>\n",
       "      <td>Brand New</td>\n",
       "      <td>Bibra Lake^ WA^ Australia</td>\n",
       "      <td>U $59.00</td>\n",
       "      <td>Tue. 7 May. and Mon. 20 May.</td>\n",
       "      <td>https://www.ebay.com.au/itm/Fisher-Paykel-E450...</td>\n",
       "    </tr>\n",
       "    <tr>\n",
       "      <th>254148401186</th>\n",
       "      <td>TME1000H</td>\n",
       "      <td>Skope</td>\n",
       "      <td>None</td>\n",
       "      <td>Brand New</td>\n",
       "      <td>Bibra Lake^Wa^ Australia</td>\n",
       "      <td>U $59.00</td>\n",
       "      <td>Tue. 7 May. and Mon. 20 May.</td>\n",
       "      <td>https://www.ebay.com.au/itm/Skope-TME1000H-Fri...</td>\n",
       "    </tr>\n",
       "  </tbody>\n",
       "</table>\n",
       "</div>"
      ],
      "text/plain": [
       "                    Model            Brand Capacity  Condition  \\\n",
       "ID                                                               \n",
       "282461741459         None       Vitrifrigo     None  Brand New   \n",
       "252091057173  WSE6100SA*1     Westinghouse     None  Brand New   \n",
       "262858429519         None             None     None  Brand New   \n",
       "253514337712         None  Fisher & Paykel     None  Brand New   \n",
       "254148401186     TME1000H            Skope     None  Brand New   \n",
       "\n",
       "                                Location      Price  \\\n",
       "ID                                                    \n",
       "282461741459         Carlino (UD)^ Italy    1109.71   \n",
       "252091057173    Bibra Lake^Wa^ Australia  U $110.00   \n",
       "262858429519  Bankstown^ NSW ^ Australia      220.0   \n",
       "253514337712   Bibra Lake^ WA^ Australia   U $59.00   \n",
       "254148401186    Bibra Lake^Wa^ Australia   U $59.00   \n",
       "\n",
       "                              Delivery Time  \\\n",
       "ID                                            \n",
       "282461741459  Thu. 23 May.  and Mon. 3 Jun.   \n",
       "252091057173  Tue. 7 May. and Mon. 20 May.    \n",
       "262858429519    Wed. 1 May. and Wed. 8 May.   \n",
       "253514337712  Tue. 7 May. and Mon. 20 May.    \n",
       "254148401186  Tue. 7 May. and Mon. 20 May.    \n",
       "\n",
       "                                                            URL  \n",
       "ID                                                               \n",
       "282461741459  https://www.ebay.com.au/itm/Vitrifrigo-C47-Ref...  \n",
       "252091057173  https://www.ebay.com.au/itm/Westinghouse-WSE61...  \n",
       "262858429519  https://www.ebay.com.au/itm/VACCUM-PUMP-VALUE-...  \n",
       "253514337712  https://www.ebay.com.au/itm/Fisher-Paykel-E450...  \n",
       "254148401186  https://www.ebay.com.au/itm/Skope-TME1000H-Fri...  "
      ]
     },
     "execution_count": 10,
     "metadata": {},
     "output_type": "execute_result"
    }
   ],
   "source": [
    "df.head(5)"
   ]
  },
  {
   "cell_type": "code",
   "execution_count": 7,
   "metadata": {},
   "outputs": [
    {
     "data": {
      "text/plain": [
       "Index(['ID', 'Model', 'Brand', 'Capacity', 'Condition', 'Location', 'Price',\n",
       "       'Delivery Time', 'URL'],\n",
       "      dtype='object')"
      ]
     },
     "execution_count": 7,
     "metadata": {},
     "output_type": "execute_result"
    }
   ],
   "source": [
    "df.columns"
   ]
  },
  {
   "cell_type": "code",
   "execution_count": 15,
   "metadata": {},
   "outputs": [
    {
     "data": {
      "text/plain": [
       "Westinghouse       1354\n",
       "Kelvinator          988\n",
       "Electrolux          285\n",
       "Fisher & Paykel     246\n",
       "Phillips            184\n",
       "Vitrifrigo          163\n",
       "Name: Brand, dtype: int64"
      ]
     },
     "execution_count": 15,
     "metadata": {},
     "output_type": "execute_result"
    }
   ],
   "source": [
    "df['Brand'].value_counts()[:6]"
   ]
  },
  {
   "cell_type": "code",
   "execution_count": 17,
   "metadata": {},
   "outputs": [
    {
     "data": {
      "text/plain": [
       "None                                                  4271\n",
       "425 L                                                    7\n",
       "15G                                                      5\n",
       "40 L                                                     4\n",
       "504 L                                                    2\n",
       "1137                                                     2\n",
       "4 L                                                      2\n",
       "520 L                                                    2\n",
       "4.92 * 3.26 * 9.76inch                                   2\n",
       "7G                                                       2\n",
       "20G                                                      2\n",
       "8 L                                                      2\n",
       "380 L                                                    2\n",
       "231 L                                                    2\n",
       "28L                                                      2\n",
       "470 L                                                    2\n",
       "70 L                                                     2\n",
       "9L                                                       2\n",
       "4L                                                       2\n",
       "422 L                                                    2\n",
       "400 L                                                    2\n",
       "140 L                                                    1\n",
       "407L Fridge^ 145L Freezer^ 145L Cool Select Zone^        1\n",
       "358L Fridge^ 88L Freezer                                 1\n",
       "15L                                                      1\n",
       "2500                                                     1\n",
       "422L Fridge^ 265L Freezer                                1\n",
       "392L Fridge^ 303L Freezer                                1\n",
       "48 L                                                     1\n",
       "75ML                                                     1\n",
       "89 Litre                                                 1\n",
       "342 L                                                    1\n",
       "510 L                                                    1\n",
       "10 L                                                     1\n",
       "580 L                                                    1\n",
       "423 L                                                    1\n",
       "35L                                                      1\n",
       "519 L                                                    1\n",
       "7g^ 10g^ 15g^ 20g^ 25g                                   1\n",
       "407L Fridge^ 145L Freezer^ 145L CoolSelect Zone Do       1\n",
       "765 L                                                    1\n",
       "1HP                                                      1\n",
       "708 L                                                    1\n",
       "458 Litre                                                1\n",
       "100KG                                                    1\n",
       "Name: Capacity, dtype: int64"
      ]
     },
     "execution_count": 17,
     "metadata": {},
     "output_type": "execute_result"
    }
   ],
   "source": [
    "df['Capacity'].value_counts()"
   ]
  },
  {
   "cell_type": "code",
   "execution_count": 26,
   "metadata": {},
   "outputs": [],
   "source": [
    "# Get rid of L in Capacity\n",
    "def remove_Litr(capacity_str):\n",
    "    if \"L\" in str(capacity_str):\n",
    "        return str(capacity_str)[:capacity_str.find(\"L\")].strip()\n",
    "    else:\n",
    "        return capacity_str\n",
    "\n",
    "df['CapacityNew']=df['Capacity'].apply(remove_Litr)"
   ]
  },
  {
   "cell_type": "code",
   "execution_count": 23,
   "metadata": {},
   "outputs": [
    {
     "data": {
      "text/plain": [
       "dtype('O')"
      ]
     },
     "execution_count": 23,
     "metadata": {},
     "output_type": "execute_result"
    }
   ],
   "source": [
    "df['Capacity'].dtype"
   ]
  },
  {
   "cell_type": "code",
   "execution_count": 27,
   "metadata": {},
   "outputs": [
    {
     "data": {
      "text/plain": [
       "None                      4271\n",
       "425                          7\n",
       "15G                          5\n",
       "4                            4\n",
       "40                           4\n",
       "422                          3\n",
       "70                           2\n",
       "4.92 * 3.26 * 9.76inch       2\n",
       "380                          2\n",
       "407                          2\n",
       "520                          2\n",
       "8                            2\n",
       "7G                           2\n",
       "470                          2\n",
       "231                          2\n",
       "504                          2\n",
       "20G                          2\n",
       "1137                         2\n",
       "9                            2\n",
       "28                           2\n",
       "400                          2\n",
       "510                          1\n",
       "708                          1\n",
       "35                           1\n",
       "392                          1\n",
       "580                          1\n",
       "75M                          1\n",
       "140                          1\n",
       "2500                         1\n",
       "15                           1\n",
       "358                          1\n",
       "7g^ 10g^ 15g^ 20g^ 25g       1\n",
       "342                          1\n",
       "1HP                          1\n",
       "10                           1\n",
       "765                          1\n",
       "89                           1\n",
       "423                          1\n",
       "458                          1\n",
       "48                           1\n",
       "519                          1\n",
       "100KG                        1\n",
       "Name: CapacityNew, dtype: int64"
      ]
     },
     "execution_count": 27,
     "metadata": {},
     "output_type": "execute_result"
    }
   ],
   "source": [
    "df['CapacityNew'].value_counts()"
   ]
  },
  {
   "cell_type": "code",
   "execution_count": null,
   "metadata": {},
   "outputs": [],
   "source": []
  }
 ],
 "metadata": {
  "kernelspec": {
   "display_name": "Python 3",
   "language": "python",
   "name": "python3"
  },
  "language_info": {
   "codemirror_mode": {
    "name": "ipython",
    "version": 3
   },
   "file_extension": ".py",
   "mimetype": "text/x-python",
   "name": "python",
   "nbconvert_exporter": "python",
   "pygments_lexer": "ipython3",
   "version": "3.7.2"
  }
 },
 "nbformat": 4,
 "nbformat_minor": 2
}
